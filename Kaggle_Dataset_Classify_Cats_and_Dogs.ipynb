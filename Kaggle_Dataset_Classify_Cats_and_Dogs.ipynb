{
  "nbformat": 4,
  "nbformat_minor": 0,
  "metadata": {
    "colab": {
      "provenance": [],
      "authorship_tag": "ABX9TyP6DKrwttFC3eEw0lEPgGQl",
      "include_colab_link": true
    },
    "kernelspec": {
      "name": "python3",
      "display_name": "Python 3"
    },
    "language_info": {
      "name": "python"
    }
  },
  "cells": [
    {
      "cell_type": "markdown",
      "metadata": {
        "id": "view-in-github",
        "colab_type": "text"
      },
      "source": [
        "<a href=\"https://colab.research.google.com/github/worawit-saetan/Kaggle-Dataset---Classify-Cats-and-Dogs/blob/main/Kaggle_Dataset_Classify_Cats_and_Dogs.ipynb\" target=\"_parent\"><img src=\"https://colab.research.google.com/assets/colab-badge.svg\" alt=\"Open In Colab\"/></a>"
      ]
    },
    {
      "cell_type": "markdown",
      "source": [
        "# Kaggle Dataset - Classify Cats and Dogs (very small training dataset)\n",
        " We train with very small dataset 200 images for training set but get a great result (test accuracy of 87%)\n",
        "\n",
        "We will create many CNN models to distinguish dogs from cats \n",
        "\n",
        "+ basic CNN\n",
        "\n",
        "+ CNN with Data Augmentation and Dropout\n",
        "\n",
        "+ Transfer Learning with VGG16 - feature extraction (freeze base model)\n",
        "\n",
        "+ Transfer Learning with VGG16 - fine tuning (unfreeze few last layers of base model)"
      ],
      "metadata": {
        "id": "1l6_nfCsFp9g"
      }
    },
    {
      "cell_type": "markdown",
      "source": [
        "Split the folder into training/validation/test set with followings\n",
        "\n",
        "train/cats 100 images\n",
        "\n",
        "train/dogs 100 images\n",
        "\n",
        "validation/cats 50 images\n",
        "\n",
        "validation/dogs 50 images\n",
        "\n",
        "test/cats 50 images\n",
        "\n",
        "test/dogs 50 images"
      ],
      "metadata": {
        "id": "-Ppfc7V4ZqgM"
      }
    },
    {
      "cell_type": "code",
      "execution_count": 1,
      "metadata": {
        "id": "pZmeHFXrXSZP"
      },
      "outputs": [],
      "source": [
        "import os, shutil\n",
        "original_dataset_dir = '/content/cats_and_dogs_very_small'\n",
        "\n",
        "base_dir = '/content/cats_and_dogs_dataset'\n",
        "os.mkdir(base_dir)\n",
        "\n",
        "train_dir = os.path.join(base_dir, 'train')\n",
        "os.mkdir(train_dir)\n",
        "\n",
        "validation_dir = os.path.join(base_dir, 'validation')\n",
        "os.mkdir(validation_dir)\n",
        "\n",
        "test_dir = os.path.join(base_dir, 'test')\n",
        "os.mkdir(test_dir)\n",
        "\n",
        "train_cats_dir = os.path.join(train_dir, 'cats')\n",
        "os.mkdir(train_cats_dir)\n",
        "train_dogs_dir = os.path.join(train_dir, 'dogs')\n",
        "os.mkdir(train_dogs_dir)\n",
        "validation_cats_dir = os.path.join(validation_dir, 'cats')\n",
        "os.mkdir(validation_cats_dir)\n",
        "validation_dogs_dir = os.path.join(validation_dir, 'dogs')\n",
        "os.mkdir(validation_dogs_dir)\n",
        "test_cats_dir = os.path.join(test_dir, 'cats')\n",
        "os.mkdir(test_cats_dir)\n",
        "test_dogs_dir = os.path.join(test_dir, 'dogs')\n",
        "os.mkdir(test_dogs_dir)"
      ]
    },
    {
      "cell_type": "code",
      "source": [
        "fnames = ['cat.{}.jpg'.format(i) for i in range(100)]\n",
        "for fname in fnames:\n",
        "  src = os.path.join(original_dataset_dir, fname)\n",
        "  dst = os.path.join(train_cats_dir, fname)\n",
        "  shutil.copyfile(src, dst)\n",
        "\n",
        "fnames = ['cat.{}.jpg'.format(i) for i in range(100, 150)]\n",
        "for fname in fnames:\n",
        "  src = os.path.join(original_dataset_dir, fname)\n",
        "  dst = os.path.join(validation_cats_dir, fname)\n",
        "  shutil.copyfile(src, dst)\n",
        "\n",
        "fnames = ['cat.{}.jpg'.format(i) for i in range(150, 200)]\n",
        "for fname in fnames:\n",
        "  src = os.path.join(original_dataset_dir, fname)\n",
        "  dst = os.path.join(test_cats_dir, fname)\n",
        "  shutil.copyfile(src, dst)"
      ],
      "metadata": {
        "id": "lCZpPIeku1i_"
      },
      "execution_count": 2,
      "outputs": []
    },
    {
      "cell_type": "code",
      "source": [
        "fnames = ['dog.{}.jpg'.format(i) for i in range(100)]\n",
        "for fname in fnames:\n",
        "  src = os.path.join(original_dataset_dir, fname)\n",
        "  dst = os.path.join(train_dogs_dir, fname)\n",
        "  shutil.copyfile(src, dst)\n",
        "\n",
        "fnames = ['dog.{}.jpg'.format(i) for i in range(100, 150)]\n",
        "for fname in fnames:\n",
        "  src = os.path.join(original_dataset_dir, fname)\n",
        "  dst = os.path.join(validation_dogs_dir, fname)\n",
        "  shutil.copyfile(src, dst)\n",
        "  \n",
        "fnames = ['dog.{}.jpg'.format(i) for i in range(150, 200)]\n",
        "for fname in fnames:\n",
        "  src = os.path.join(original_dataset_dir, fname)\n",
        "  dst = os.path.join(test_dogs_dir, fname)\n",
        "  shutil.copyfile(src, dst)"
      ],
      "metadata": {
        "id": "3UN32hEtvCol"
      },
      "execution_count": 3,
      "outputs": []
    },
    {
      "cell_type": "markdown",
      "source": [
        "check the folders"
      ],
      "metadata": {
        "id": "t25fsPAbaJmo"
      }
    },
    {
      "cell_type": "code",
      "source": [
        "print('total training cat images:', len(os.listdir(train_cats_dir)))\n",
        "print('total training dog images:', len(os.listdir(train_dogs_dir)))\n",
        "\n",
        "print('total validation cat images:', len(os.listdir(validation_cats_dir)))\n",
        "print('total validation dog images:', len(os.listdir(validation_dogs_dir)))\n",
        "\n",
        "print('total test cat images:', len(os.listdir(test_cats_dir)))\n",
        "print('total test dog images:', len(os.listdir(test_dogs_dir)))"
      ],
      "metadata": {
        "colab": {
          "base_uri": "https://localhost:8080/"
        },
        "id": "yvsJZr5JvTzr",
        "outputId": "3a229e4b-85f9-4f73-cf18-8bbd688c83dc"
      },
      "execution_count": 4,
      "outputs": [
        {
          "output_type": "stream",
          "name": "stdout",
          "text": [
            "total training cat images: 100\n",
            "total training dog images: 100\n",
            "total validation cat images: 50\n",
            "total validation dog images: 50\n",
            "total test cat images: 50\n",
            "total test dog images: 50\n"
          ]
        }
      ]
    },
    {
      "cell_type": "markdown",
      "source": [
        "Create basic CNN"
      ],
      "metadata": {
        "id": "Uqdq1gSTaOoU"
      }
    },
    {
      "cell_type": "code",
      "source": [
        "from keras import layers\n",
        "from keras import models\n",
        "\n",
        "model = models.Sequential()\n",
        "model.add(layers.Conv2D(32, (3, 3), activation='relu', input_shape=(150, 150, 3)))\n",
        "model.add(layers.MaxPooling2D((2, 2)))\n",
        "\n",
        "model.add(layers.Conv2D(64, (3, 3), activation='relu'))\n",
        "model.add(layers.MaxPooling2D((2, 2)))\n",
        "\n",
        "model.add(layers.Conv2D(128, (3, 3), activation='relu'))\n",
        "model.add(layers.MaxPooling2D((2, 2)))\n",
        "\n",
        "model.add(layers.Conv2D(128, (3, 3), activation='relu'))\n",
        "model.add(layers.MaxPooling2D((2, 2)))\n",
        "\n",
        "model.add(layers.Flatten())\n",
        "model.add(layers.Dense(512, activation='relu'))\n",
        "model.add(layers.Dense(1, activation='sigmoid'))"
      ],
      "metadata": {
        "id": "8ebtlSsKvl0v"
      },
      "execution_count": 5,
      "outputs": []
    },
    {
      "cell_type": "code",
      "source": [
        "model.summary()"
      ],
      "metadata": {
        "colab": {
          "base_uri": "https://localhost:8080/"
        },
        "id": "W8Jp8q1ZvsmW",
        "outputId": "b62660a9-08e4-4b1a-8d5e-43704dc67157"
      },
      "execution_count": 6,
      "outputs": [
        {
          "output_type": "stream",
          "name": "stdout",
          "text": [
            "Model: \"sequential\"\n",
            "_________________________________________________________________\n",
            " Layer (type)                Output Shape              Param #   \n",
            "=================================================================\n",
            " conv2d (Conv2D)             (None, 148, 148, 32)      896       \n",
            "                                                                 \n",
            " max_pooling2d (MaxPooling2D  (None, 74, 74, 32)       0         \n",
            " )                                                               \n",
            "                                                                 \n",
            " conv2d_1 (Conv2D)           (None, 72, 72, 64)        18496     \n",
            "                                                                 \n",
            " max_pooling2d_1 (MaxPooling  (None, 36, 36, 64)       0         \n",
            " 2D)                                                             \n",
            "                                                                 \n",
            " conv2d_2 (Conv2D)           (None, 34, 34, 128)       73856     \n",
            "                                                                 \n",
            " max_pooling2d_2 (MaxPooling  (None, 17, 17, 128)      0         \n",
            " 2D)                                                             \n",
            "                                                                 \n",
            " conv2d_3 (Conv2D)           (None, 15, 15, 128)       147584    \n",
            "                                                                 \n",
            " max_pooling2d_3 (MaxPooling  (None, 7, 7, 128)        0         \n",
            " 2D)                                                             \n",
            "                                                                 \n",
            " flatten (Flatten)           (None, 6272)              0         \n",
            "                                                                 \n",
            " dense (Dense)               (None, 512)               3211776   \n",
            "                                                                 \n",
            " dense_1 (Dense)             (None, 1)                 513       \n",
            "                                                                 \n",
            "=================================================================\n",
            "Total params: 3,453,121\n",
            "Trainable params: 3,453,121\n",
            "Non-trainable params: 0\n",
            "_________________________________________________________________\n"
          ]
        }
      ]
    },
    {
      "cell_type": "code",
      "source": [
        "from keras import optimizers\n",
        "model.compile(loss='binary_crossentropy', optimizer=optimizers.RMSprop(lr=1e-4), metrics=['acc'])"
      ],
      "metadata": {
        "colab": {
          "base_uri": "https://localhost:8080/"
        },
        "id": "yiGzzmIIv3ly",
        "outputId": "61348c75-fb3b-4635-bb50-4866ec5f9dee"
      },
      "execution_count": 7,
      "outputs": [
        {
          "output_type": "stream",
          "name": "stderr",
          "text": [
            "/usr/local/lib/python3.7/dist-packages/keras/optimizers/optimizer_v2/rmsprop.py:135: UserWarning: The `lr` argument is deprecated, use `learning_rate` instead.\n",
            "  super(RMSprop, self).__init__(name, **kwargs)\n"
          ]
        }
      ]
    },
    {
      "cell_type": "markdown",
      "source": [
        "Flow from the directory into train and validation"
      ],
      "metadata": {
        "id": "kfViV4N9abJv"
      }
    },
    {
      "cell_type": "code",
      "source": [
        "from keras.preprocessing.image import ImageDataGenerator\n",
        "\n",
        "train_datagen = ImageDataGenerator(rescale=1./255)\n",
        "test_datagen = ImageDataGenerator(rescale=1./255)\n",
        "\n",
        "train_generator = train_datagen.flow_from_directory(\n",
        "    train_dir,\n",
        "    target_size=(150, 150),\n",
        "    batch_size=10,\n",
        "    class_mode='binary')\n",
        "\n",
        "validation_generator = test_datagen.flow_from_directory(\n",
        "    validation_dir,\n",
        "    target_size=(150, 150),\n",
        "    batch_size=10,\n",
        "    class_mode='binary')"
      ],
      "metadata": {
        "colab": {
          "base_uri": "https://localhost:8080/"
        },
        "id": "Vhk1nSmZwB38",
        "outputId": "7c0df78b-e3b9-4e6e-879c-e9bdd7535475"
      },
      "execution_count": 8,
      "outputs": [
        {
          "output_type": "stream",
          "name": "stdout",
          "text": [
            "Found 200 images belonging to 2 classes.\n",
            "Found 100 images belonging to 2 classes.\n"
          ]
        }
      ]
    },
    {
      "cell_type": "code",
      "source": [
        "history = model.fit_generator(\n",
        "    train_generator,\n",
        "    steps_per_epoch=20, #train_generator will fetch the data endlessly then we need to specity the step to break it (training size/batch_size)\n",
        "    epochs=20,\n",
        "    validation_data=validation_generator,\n",
        "    validation_steps=10 #validation_generator will fetch the data endlessly then we need to specity the step to break it (validation size/batch_size)\n",
        "    )"
      ],
      "metadata": {
        "colab": {
          "base_uri": "https://localhost:8080/"
        },
        "id": "kVctHFwXxb7G",
        "outputId": "d5b4f0a3-84e1-4db8-fe2f-f965e02e3da8"
      },
      "execution_count": 9,
      "outputs": [
        {
          "output_type": "stream",
          "name": "stderr",
          "text": [
            "/usr/local/lib/python3.7/dist-packages/ipykernel_launcher.py:6: UserWarning: `Model.fit_generator` is deprecated and will be removed in a future version. Please use `Model.fit`, which supports generators.\n",
            "  \n"
          ]
        },
        {
          "output_type": "stream",
          "name": "stdout",
          "text": [
            "Epoch 1/20\n",
            "20/20 [==============================] - 13s 566ms/step - loss: 0.6963 - acc: 0.4650 - val_loss: 0.6934 - val_acc: 0.5000\n",
            "Epoch 2/20\n",
            "20/20 [==============================] - 12s 589ms/step - loss: 0.6918 - acc: 0.5150 - val_loss: 0.6873 - val_acc: 0.5000\n",
            "Epoch 3/20\n",
            "20/20 [==============================] - 11s 553ms/step - loss: 0.6766 - acc: 0.5950 - val_loss: 0.6990 - val_acc: 0.5000\n",
            "Epoch 4/20\n",
            "20/20 [==============================] - 12s 613ms/step - loss: 0.6580 - acc: 0.6650 - val_loss: 0.6821 - val_acc: 0.5200\n",
            "Epoch 5/20\n",
            "20/20 [==============================] - 11s 558ms/step - loss: 0.6283 - acc: 0.6150 - val_loss: 0.6915 - val_acc: 0.5200\n",
            "Epoch 6/20\n",
            "20/20 [==============================] - 11s 559ms/step - loss: 0.6157 - acc: 0.7000 - val_loss: 0.6529 - val_acc: 0.6300\n",
            "Epoch 7/20\n",
            "20/20 [==============================] - 11s 555ms/step - loss: 0.6000 - acc: 0.6700 - val_loss: 0.6809 - val_acc: 0.5600\n",
            "Epoch 8/20\n",
            "20/20 [==============================] - 11s 575ms/step - loss: 0.5802 - acc: 0.7400 - val_loss: 0.6530 - val_acc: 0.6200\n",
            "Epoch 9/20\n",
            "20/20 [==============================] - 11s 553ms/step - loss: 0.5284 - acc: 0.7700 - val_loss: 0.6617 - val_acc: 0.6400\n",
            "Epoch 10/20\n",
            "20/20 [==============================] - 11s 555ms/step - loss: 0.5025 - acc: 0.7550 - val_loss: 0.6818 - val_acc: 0.6000\n",
            "Epoch 11/20\n",
            "20/20 [==============================] - 11s 558ms/step - loss: 0.4964 - acc: 0.7550 - val_loss: 0.7143 - val_acc: 0.5800\n",
            "Epoch 12/20\n",
            "20/20 [==============================] - 11s 554ms/step - loss: 0.4584 - acc: 0.8200 - val_loss: 0.7082 - val_acc: 0.6100\n",
            "Epoch 13/20\n",
            "20/20 [==============================] - 11s 553ms/step - loss: 0.4270 - acc: 0.8450 - val_loss: 0.7358 - val_acc: 0.6000\n",
            "Epoch 14/20\n",
            "20/20 [==============================] - 11s 560ms/step - loss: 0.4007 - acc: 0.8450 - val_loss: 0.7703 - val_acc: 0.5700\n",
            "Epoch 15/20\n",
            "20/20 [==============================] - 11s 551ms/step - loss: 0.3776 - acc: 0.8400 - val_loss: 0.7485 - val_acc: 0.6500\n",
            "Epoch 16/20\n",
            "20/20 [==============================] - 11s 555ms/step - loss: 0.3333 - acc: 0.8650 - val_loss: 0.8761 - val_acc: 0.5600\n",
            "Epoch 17/20\n",
            "20/20 [==============================] - 18s 869ms/step - loss: 0.3193 - acc: 0.8950 - val_loss: 0.8727 - val_acc: 0.5600\n",
            "Epoch 18/20\n",
            "20/20 [==============================] - 11s 555ms/step - loss: 0.2841 - acc: 0.8650 - val_loss: 0.8690 - val_acc: 0.5900\n",
            "Epoch 19/20\n",
            "20/20 [==============================] - 14s 720ms/step - loss: 0.2576 - acc: 0.9150 - val_loss: 0.8873 - val_acc: 0.6600\n",
            "Epoch 20/20\n",
            "20/20 [==============================] - 11s 556ms/step - loss: 0.2569 - acc: 0.9050 - val_loss: 0.8512 - val_acc: 0.6400\n"
          ]
        }
      ]
    },
    {
      "cell_type": "markdown",
      "source": [
        "End up with validation accuracy = 64 and training accuracy = 90 (overfitting)\n",
        "\n",
        "\n",
        "Lets save the model and plot the graph of the accuracy and the loss"
      ],
      "metadata": {
        "id": "PO3mYyK_0fNY"
      }
    },
    {
      "cell_type": "code",
      "source": [
        "model.save('cats_and_dogs_small_basic_CNN.h5')"
      ],
      "metadata": {
        "id": "jGKpgpmSywRT"
      },
      "execution_count": 10,
      "outputs": []
    },
    {
      "cell_type": "code",
      "source": [
        "import matplotlib.pyplot as plt\n",
        "acc = history.history['acc']\n",
        "val_acc = history.history['val_acc']\n",
        "loss = history.history['loss']\n",
        "val_loss = history.history['val_loss']\n",
        "epochs = range(1, len(acc) + 1)\n",
        "plt.plot(epochs, acc, 'bo', label='Training acc')\n",
        "plt.plot(epochs, val_acc, 'b', label='Validation acc')\n",
        "plt.title('Training and validation accuracy')\n",
        "plt.legend()\n",
        "plt.figure()\n",
        "plt.plot(epochs, loss, 'bo', label='Training loss')\n",
        "plt.plot(epochs, val_loss, 'b', label='Validation loss')\n",
        "plt.title('Training and validation loss')\n",
        "plt.legend()\n",
        "plt.show()"
      ],
      "metadata": {
        "colab": {
          "base_uri": "https://localhost:8080/",
          "height": 545
        },
        "id": "B5TT1J0pztPE",
        "outputId": "a13d1575-03ad-4bf5-f27e-1fbe82b8aa7d"
      },
      "execution_count": 11,
      "outputs": [
        {
          "output_type": "display_data",
          "data": {
            "text/plain": [
              "<Figure size 432x288 with 1 Axes>"
            ],
            "image/png": "[encoded data removed]"
          },
          "metadata": {
            "needs_background": "light"
          }
        },
        {
          "output_type": "display_data",
          "data": {
            "text/plain": [
              "<Figure size 432x288 with 1 Axes>"
            ],
            "image/png": "[encoded data removed]"
          },
          "metadata": {
            "needs_background": "light"
          }
        }
      ]
    },
    {
      "cell_type": "markdown",
      "source": [
        "Using Data Augmentation "
      ],
      "metadata": {
        "id": "IHwwHUVb0ZAX"
      }
    },
    {
      "cell_type": "code",
      "source": [
        "train_datagen = ImageDataGenerator(\n",
        "  rescale=1./255,\n",
        "  rotation_range=40,\n",
        "  width_shift_range=0.2,\n",
        "  height_shift_range=0.2,\n",
        "  shear_range=0.2,\n",
        "  zoom_range=0.2,\n",
        "  horizontal_flip=True,\n",
        "  fill_mode='nearest'\n",
        "  )\n",
        "test_datagen = ImageDataGenerator(rescale=1./255)\n",
        "\n",
        "train_generator = train_datagen.flow_from_directory(\n",
        "  train_dir,\n",
        "  target_size=(150, 150),\n",
        "  batch_size=20,\n",
        "  class_mode='binary')\n",
        "\n",
        "validation_generator = test_datagen.flow_from_directory(\n",
        "  validation_dir,\n",
        "  target_size=(150, 150),\n",
        "  batch_size=20,\n",
        "  class_mode='binary')"
      ],
      "metadata": {
        "colab": {
          "base_uri": "https://localhost:8080/"
        },
        "id": "PGAlUmrZ0MJ7",
        "outputId": "3ae87fc4-8f0e-4191-9445-84c3b847e5a9"
      },
      "execution_count": 12,
      "outputs": [
        {
          "output_type": "stream",
          "name": "stdout",
          "text": [
            "Found 200 images belonging to 2 classes.\n",
            "Found 100 images belonging to 2 classes.\n"
          ]
        }
      ]
    },
    {
      "cell_type": "code",
      "source": [
        "model = models.Sequential()\n",
        "\n",
        "model.add(layers.Conv2D(32, (3, 3), activation='relu', input_shape=(150, 150, 3)))\n",
        "model.add(layers.MaxPooling2D((2, 2)))\n",
        "\n",
        "model.add(layers.Conv2D(64, (3, 3), activation='relu'))\n",
        "model.add(layers.MaxPooling2D((2, 2)))\n",
        "\n",
        "model.add(layers.Conv2D(128, (3, 3), activation='relu'))\n",
        "model.add(layers.MaxPooling2D((2, 2)))\n",
        "\n",
        "model.add(layers.Conv2D(128, (3, 3), activation='relu'))\n",
        "model.add(layers.MaxPooling2D((2, 2)))\n",
        "\n",
        "model.add(layers.Flatten())\n",
        "model.add(layers.Dropout(0.5))\n",
        "\n",
        "model.add(layers.Dense(512, activation='relu'))\n",
        "model.add(layers.Dense(1, activation='sigmoid'))\n",
        "model.compile(loss='binary_crossentropy', optimizer=optimizers.RMSprop(lr=1e-4), metrics=['acc'])"
      ],
      "metadata": {
        "id": "_hITPIAl1EF2"
      },
      "execution_count": 16,
      "outputs": []
    },
    {
      "cell_type": "code",
      "source": [
        "history = model.fit_generator(\n",
        "  train_generator,\n",
        "  steps_per_epoch=10,\n",
        "  epochs=100,\n",
        "  validation_data=validation_generator,\n",
        "  validation_steps=5)"
      ],
      "metadata": {
        "colab": {
          "base_uri": "https://localhost:8080/"
        },
        "id": "xlw384ru2GqN",
        "outputId": "9d943d78-f48f-49e6-e1b0-f20e596657e5"
      },
      "execution_count": 17,
      "outputs": [
        {
          "output_type": "stream",
          "name": "stderr",
          "text": [
            "/usr/local/lib/python3.7/dist-packages/ipykernel_launcher.py:6: UserWarning: `Model.fit_generator` is deprecated and will be removed in a future version. Please use `Model.fit`, which supports generators.\n",
            "  \n"
          ]
        },
        {
          "output_type": "stream",
          "name": "stdout",
          "text": [
            "Epoch 1/100\n",
            "10/10 [==============================] - 13s 1s/step - loss: 0.7051 - acc: 0.4500 - val_loss: 0.6922 - val_acc: 0.4600\n",
            "Epoch 2/100\n",
            "10/10 [==============================] - 11s 1s/step - loss: 0.6916 - acc: 0.4750 - val_loss: 0.6897 - val_acc: 0.5400\n",
            "Epoch 3/100\n",
            "10/10 [==============================] - 11s 1s/step - loss: 0.7006 - acc: 0.4850 - val_loss: 0.6906 - val_acc: 0.5600\n",
            "Epoch 4/100\n",
            "10/10 [==============================] - 11s 1s/step - loss: 0.6947 - acc: 0.5100 - val_loss: 0.6883 - val_acc: 0.5000\n",
            "Epoch 5/100\n",
            "10/10 [==============================] - 11s 1s/step - loss: 0.6971 - acc: 0.5100 - val_loss: 0.6894 - val_acc: 0.5800\n",
            "Epoch 6/100\n",
            "10/10 [==============================] - 11s 1s/step - loss: 0.6868 - acc: 0.5300 - val_loss: 0.6915 - val_acc: 0.5000\n",
            "Epoch 7/100\n",
            "10/10 [==============================] - 11s 1s/step - loss: 0.6877 - acc: 0.5200 - val_loss: 0.6802 - val_acc: 0.5900\n",
            "Epoch 8/100\n",
            "10/10 [==============================] - 12s 1s/step - loss: 0.6849 - acc: 0.5600 - val_loss: 0.6760 - val_acc: 0.6200\n",
            "Epoch 9/100\n",
            "10/10 [==============================] - 12s 1s/step - loss: 0.6879 - acc: 0.5350 - val_loss: 0.6751 - val_acc: 0.5300\n",
            "Epoch 10/100\n",
            "10/10 [==============================] - 11s 1s/step - loss: 0.6844 - acc: 0.5250 - val_loss: 0.6734 - val_acc: 0.6800\n",
            "Epoch 11/100\n",
            "10/10 [==============================] - 12s 1s/step - loss: 0.6843 - acc: 0.5800 - val_loss: 0.6655 - val_acc: 0.5900\n",
            "Epoch 12/100\n",
            "10/10 [==============================] - 12s 1s/step - loss: 0.6772 - acc: 0.5550 - val_loss: 0.6660 - val_acc: 0.5500\n",
            "Epoch 13/100\n",
            "10/10 [==============================] - 11s 1s/step - loss: 0.6764 - acc: 0.5900 - val_loss: 0.6597 - val_acc: 0.6600\n",
            "Epoch 14/100\n",
            "10/10 [==============================] - 12s 1s/step - loss: 0.6800 - acc: 0.5950 - val_loss: 0.6512 - val_acc: 0.6600\n",
            "Epoch 15/100\n",
            "10/10 [==============================] - 11s 1s/step - loss: 0.6647 - acc: 0.6300 - val_loss: 0.6488 - val_acc: 0.6500\n",
            "Epoch 16/100\n",
            "10/10 [==============================] - 12s 1s/step - loss: 0.6724 - acc: 0.5900 - val_loss: 0.6518 - val_acc: 0.6600\n",
            "Epoch 17/100\n",
            "10/10 [==============================] - 12s 1s/step - loss: 0.6352 - acc: 0.6400 - val_loss: 0.7953 - val_acc: 0.5000\n",
            "Epoch 18/100\n",
            "10/10 [==============================] - 12s 1s/step - loss: 0.6826 - acc: 0.5600 - val_loss: 0.6418 - val_acc: 0.6600\n",
            "Epoch 19/100\n",
            "10/10 [==============================] - 11s 1s/step - loss: 0.6373 - acc: 0.6200 - val_loss: 0.7414 - val_acc: 0.5000\n",
            "Epoch 20/100\n",
            "10/10 [==============================] - 11s 1s/step - loss: 0.6339 - acc: 0.6550 - val_loss: 0.6242 - val_acc: 0.6500\n",
            "Epoch 21/100\n",
            "10/10 [==============================] - 11s 1s/step - loss: 0.6474 - acc: 0.6700 - val_loss: 0.6706 - val_acc: 0.5700\n",
            "Epoch 22/100\n",
            "10/10 [==============================] - 12s 1s/step - loss: 0.6315 - acc: 0.6550 - val_loss: 0.6154 - val_acc: 0.6700\n",
            "Epoch 23/100\n",
            "10/10 [==============================] - 12s 1s/step - loss: 0.6216 - acc: 0.6850 - val_loss: 0.6144 - val_acc: 0.6800\n",
            "Epoch 24/100\n",
            "10/10 [==============================] - 12s 1s/step - loss: 0.6347 - acc: 0.6650 - val_loss: 0.6194 - val_acc: 0.6800\n",
            "Epoch 25/100\n",
            "10/10 [==============================] - 12s 1s/step - loss: 0.6265 - acc: 0.6350 - val_loss: 0.6447 - val_acc: 0.6600\n",
            "Epoch 26/100\n",
            "10/10 [==============================] - 12s 1s/step - loss: 0.6095 - acc: 0.7000 - val_loss: 0.7066 - val_acc: 0.5800\n",
            "Epoch 27/100\n",
            "10/10 [==============================] - 12s 1s/step - loss: 0.6340 - acc: 0.6500 - val_loss: 0.6142 - val_acc: 0.6900\n",
            "Epoch 28/100\n",
            "10/10 [==============================] - 12s 1s/step - loss: 0.6176 - acc: 0.6750 - val_loss: 0.6249 - val_acc: 0.7000\n",
            "Epoch 29/100\n",
            "10/10 [==============================] - 12s 1s/step - loss: 0.5838 - acc: 0.7100 - val_loss: 0.6198 - val_acc: 0.6800\n",
            "Epoch 30/100\n",
            "10/10 [==============================] - 12s 1s/step - loss: 0.6402 - acc: 0.6200 - val_loss: 0.6256 - val_acc: 0.7000\n",
            "Epoch 31/100\n",
            "10/10 [==============================] - 12s 1s/step - loss: 0.5938 - acc: 0.6800 - val_loss: 0.6686 - val_acc: 0.6500\n",
            "Epoch 32/100\n",
            "10/10 [==============================] - 12s 1s/step - loss: 0.5659 - acc: 0.7250 - val_loss: 0.6810 - val_acc: 0.6800\n",
            "Epoch 33/100\n",
            "10/10 [==============================] - 12s 1s/step - loss: 0.5951 - acc: 0.7000 - val_loss: 0.6197 - val_acc: 0.7000\n",
            "Epoch 34/100\n",
            "10/10 [==============================] - 12s 1s/step - loss: 0.6029 - acc: 0.6400 - val_loss: 0.6311 - val_acc: 0.6800\n",
            "Epoch 35/100\n",
            "10/10 [==============================] - 12s 1s/step - loss: 0.5745 - acc: 0.7100 - val_loss: 0.6071 - val_acc: 0.7000\n",
            "Epoch 36/100\n",
            "10/10 [==============================] - 12s 1s/step - loss: 0.5862 - acc: 0.6850 - val_loss: 0.6714 - val_acc: 0.6800\n",
            "Epoch 37/100\n",
            "10/10 [==============================] - 12s 1s/step - loss: 0.5357 - acc: 0.7150 - val_loss: 1.0048 - val_acc: 0.5200\n",
            "Epoch 38/100\n",
            "10/10 [==============================] - 12s 1s/step - loss: 0.5674 - acc: 0.7400 - val_loss: 0.6218 - val_acc: 0.6900\n",
            "Epoch 39/100\n",
            "10/10 [==============================] - 12s 1s/step - loss: 0.5796 - acc: 0.6850 - val_loss: 0.6528 - val_acc: 0.7200\n",
            "Epoch 40/100\n",
            "10/10 [==============================] - 12s 1s/step - loss: 0.5636 - acc: 0.7050 - val_loss: 0.6409 - val_acc: 0.7300\n",
            "Epoch 41/100\n",
            "10/10 [==============================] - 12s 1s/step - loss: 0.5519 - acc: 0.7600 - val_loss: 0.6536 - val_acc: 0.7000\n",
            "Epoch 42/100\n",
            "10/10 [==============================] - 12s 1s/step - loss: 0.5726 - acc: 0.7150 - val_loss: 0.6133 - val_acc: 0.7000\n",
            "Epoch 43/100\n",
            "10/10 [==============================] - 12s 1s/step - loss: 0.5739 - acc: 0.7050 - val_loss: 0.6737 - val_acc: 0.6200\n",
            "Epoch 44/100\n",
            "10/10 [==============================] - 12s 1s/step - loss: 0.5533 - acc: 0.7500 - val_loss: 0.6643 - val_acc: 0.7100\n",
            "Epoch 45/100\n",
            "10/10 [==============================] - 12s 1s/step - loss: 0.5663 - acc: 0.7650 - val_loss: 0.5907 - val_acc: 0.7100\n",
            "Epoch 46/100\n",
            "10/10 [==============================] - 12s 1s/step - loss: 0.5600 - acc: 0.7200 - val_loss: 0.5908 - val_acc: 0.7100\n",
            "Epoch 47/100\n",
            "10/10 [==============================] - 12s 1s/step - loss: 0.5467 - acc: 0.7200 - val_loss: 0.6055 - val_acc: 0.7100\n",
            "Epoch 48/100\n",
            "10/10 [==============================] - 12s 1s/step - loss: 0.5412 - acc: 0.7200 - val_loss: 0.6376 - val_acc: 0.7200\n",
            "Epoch 49/100\n",
            "10/10 [==============================] - 12s 1s/step - loss: 0.5574 - acc: 0.7250 - val_loss: 0.7528 - val_acc: 0.5900\n",
            "Epoch 50/100\n",
            "10/10 [==============================] - 12s 1s/step - loss: 0.5480 - acc: 0.7250 - val_loss: 0.6450 - val_acc: 0.7200\n",
            "Epoch 51/100\n",
            "10/10 [==============================] - 12s 1s/step - loss: 0.5797 - acc: 0.6900 - val_loss: 0.6405 - val_acc: 0.6600\n",
            "Epoch 52/100\n",
            "10/10 [==============================] - 12s 1s/step - loss: 0.5298 - acc: 0.7300 - val_loss: 0.6541 - val_acc: 0.6700\n",
            "Epoch 53/100\n",
            "10/10 [==============================] - 12s 1s/step - loss: 0.5007 - acc: 0.7900 - val_loss: 0.6017 - val_acc: 0.7200\n",
            "Epoch 54/100\n",
            "10/10 [==============================] - 12s 1s/step - loss: 0.5321 - acc: 0.7600 - val_loss: 0.8217 - val_acc: 0.6000\n",
            "Epoch 55/100\n",
            "10/10 [==============================] - 12s 1s/step - loss: 0.4940 - acc: 0.7650 - val_loss: 0.5992 - val_acc: 0.7400\n",
            "Epoch 56/100\n",
            "10/10 [==============================] - 12s 1s/step - loss: 0.5684 - acc: 0.6750 - val_loss: 0.5782 - val_acc: 0.7200\n",
            "Epoch 57/100\n",
            "10/10 [==============================] - 12s 1s/step - loss: 0.5296 - acc: 0.7600 - val_loss: 0.6011 - val_acc: 0.7100\n",
            "Epoch 58/100\n",
            "10/10 [==============================] - 12s 1s/step - loss: 0.5489 - acc: 0.7250 - val_loss: 0.5884 - val_acc: 0.6900\n",
            "Epoch 59/100\n",
            "10/10 [==============================] - 12s 1s/step - loss: 0.5285 - acc: 0.7400 - val_loss: 0.5931 - val_acc: 0.7200\n",
            "Epoch 60/100\n",
            "10/10 [==============================] - 12s 1s/step - loss: 0.5371 - acc: 0.7550 - val_loss: 0.6694 - val_acc: 0.6600\n",
            "Epoch 61/100\n",
            "10/10 [==============================] - 12s 1s/step - loss: 0.5161 - acc: 0.7350 - val_loss: 0.5936 - val_acc: 0.7200\n",
            "Epoch 62/100\n",
            "10/10 [==============================] - 12s 1s/step - loss: 0.5203 - acc: 0.7400 - val_loss: 0.5929 - val_acc: 0.7000\n",
            "Epoch 63/100\n",
            "10/10 [==============================] - 12s 1s/step - loss: 0.5160 - acc: 0.7350 - val_loss: 0.6558 - val_acc: 0.6800\n",
            "Epoch 64/100\n",
            "10/10 [==============================] - 12s 1s/step - loss: 0.4779 - acc: 0.7750 - val_loss: 0.6127 - val_acc: 0.7000\n",
            "Epoch 65/100\n",
            "10/10 [==============================] - 12s 1s/step - loss: 0.5266 - acc: 0.7400 - val_loss: 0.6610 - val_acc: 0.6900\n",
            "Epoch 66/100\n",
            "10/10 [==============================] - 12s 1s/step - loss: 0.5501 - acc: 0.7250 - val_loss: 0.7369 - val_acc: 0.6700\n",
            "Epoch 67/100\n",
            "10/10 [==============================] - 12s 1s/step - loss: 0.4691 - acc: 0.7750 - val_loss: 0.6121 - val_acc: 0.7000\n",
            "Epoch 68/100\n",
            "10/10 [==============================] - 12s 1s/step - loss: 0.4694 - acc: 0.7850 - val_loss: 0.6007 - val_acc: 0.7200\n",
            "Epoch 69/100\n",
            "10/10 [==============================] - 12s 1s/step - loss: 0.5154 - acc: 0.7350 - val_loss: 0.5908 - val_acc: 0.7200\n",
            "Epoch 70/100\n",
            "10/10 [==============================] - 12s 1s/step - loss: 0.5230 - acc: 0.7200 - val_loss: 0.6395 - val_acc: 0.6600\n",
            "Epoch 71/100\n",
            "10/10 [==============================] - 12s 1s/step - loss: 0.5357 - acc: 0.7200 - val_loss: 0.5851 - val_acc: 0.6900\n",
            "Epoch 72/100\n",
            "10/10 [==============================] - 12s 1s/step - loss: 0.4992 - acc: 0.7500 - val_loss: 0.6582 - val_acc: 0.6700\n",
            "Epoch 73/100\n",
            "10/10 [==============================] - 12s 1s/step - loss: 0.4987 - acc: 0.7300 - val_loss: 0.6814 - val_acc: 0.6500\n",
            "Epoch 74/100\n",
            "10/10 [==============================] - 12s 1s/step - loss: 0.4451 - acc: 0.7950 - val_loss: 0.6242 - val_acc: 0.6600\n",
            "Epoch 75/100\n",
            "10/10 [==============================] - 12s 1s/step - loss: 0.5049 - acc: 0.7250 - val_loss: 0.5629 - val_acc: 0.7500\n",
            "Epoch 76/100\n",
            "10/10 [==============================] - 12s 1s/step - loss: 0.4594 - acc: 0.7500 - val_loss: 0.6002 - val_acc: 0.6800\n",
            "Epoch 77/100\n",
            "10/10 [==============================] - 12s 1s/step - loss: 0.4381 - acc: 0.7900 - val_loss: 0.6411 - val_acc: 0.6500\n",
            "Epoch 78/100\n",
            "10/10 [==============================] - 12s 1s/step - loss: 0.4716 - acc: 0.7400 - val_loss: 0.5679 - val_acc: 0.7100\n",
            "Epoch 79/100\n",
            "10/10 [==============================] - 12s 1s/step - loss: 0.5079 - acc: 0.7450 - val_loss: 0.5955 - val_acc: 0.7100\n",
            "Epoch 80/100\n",
            "10/10 [==============================] - 12s 1s/step - loss: 0.5170 - acc: 0.7500 - val_loss: 0.5909 - val_acc: 0.7000\n",
            "Epoch 81/100\n",
            "10/10 [==============================] - 12s 1s/step - loss: 0.4784 - acc: 0.7750 - val_loss: 0.5906 - val_acc: 0.6800\n",
            "Epoch 82/100\n",
            "10/10 [==============================] - 12s 1s/step - loss: 0.4704 - acc: 0.7750 - val_loss: 0.6094 - val_acc: 0.6900\n",
            "Epoch 83/100\n",
            "10/10 [==============================] - 12s 1s/step - loss: 0.4727 - acc: 0.7750 - val_loss: 0.6456 - val_acc: 0.6600\n",
            "Epoch 84/100\n",
            "10/10 [==============================] - 12s 1s/step - loss: 0.4542 - acc: 0.7850 - val_loss: 0.6110 - val_acc: 0.6600\n",
            "Epoch 85/100\n",
            "10/10 [==============================] - 12s 1s/step - loss: 0.4565 - acc: 0.7450 - val_loss: 0.6586 - val_acc: 0.6800\n",
            "Epoch 86/100\n",
            "10/10 [==============================] - 12s 1s/step - loss: 0.5230 - acc: 0.7550 - val_loss: 0.5466 - val_acc: 0.7300\n",
            "Epoch 87/100\n",
            "10/10 [==============================] - 12s 1s/step - loss: 0.4677 - acc: 0.7950 - val_loss: 0.5834 - val_acc: 0.7300\n",
            "Epoch 88/100\n",
            "10/10 [==============================] - 12s 1s/step - loss: 0.4143 - acc: 0.7900 - val_loss: 0.5817 - val_acc: 0.7200\n",
            "Epoch 89/100\n",
            "10/10 [==============================] - 12s 1s/step - loss: 0.4625 - acc: 0.7950 - val_loss: 0.6474 - val_acc: 0.6600\n",
            "Epoch 90/100\n",
            "10/10 [==============================] - 12s 1s/step - loss: 0.4817 - acc: 0.7750 - val_loss: 0.6160 - val_acc: 0.6800\n",
            "Epoch 91/100\n",
            "10/10 [==============================] - 12s 1s/step - loss: 0.4257 - acc: 0.8150 - val_loss: 0.5675 - val_acc: 0.7400\n",
            "Epoch 92/100\n",
            "10/10 [==============================] - 12s 1s/step - loss: 0.4542 - acc: 0.7950 - val_loss: 0.5965 - val_acc: 0.7000\n",
            "Epoch 93/100\n",
            "10/10 [==============================] - 12s 1s/step - loss: 0.5111 - acc: 0.7400 - val_loss: 0.5613 - val_acc: 0.7000\n",
            "Epoch 94/100\n",
            "10/10 [==============================] - 12s 1s/step - loss: 0.4699 - acc: 0.7850 - val_loss: 0.5831 - val_acc: 0.6900\n",
            "Epoch 95/100\n",
            "10/10 [==============================] - 12s 1s/step - loss: 0.4518 - acc: 0.7600 - val_loss: 0.5536 - val_acc: 0.7500\n",
            "Epoch 96/100\n",
            "10/10 [==============================] - 12s 1s/step - loss: 0.4001 - acc: 0.8150 - val_loss: 0.5924 - val_acc: 0.7000\n",
            "Epoch 97/100\n",
            "10/10 [==============================] - 12s 1s/step - loss: 0.4644 - acc: 0.7750 - val_loss: 0.7261 - val_acc: 0.6700\n",
            "Epoch 98/100\n",
            "10/10 [==============================] - 12s 1s/step - loss: 0.4340 - acc: 0.8300 - val_loss: 0.5994 - val_acc: 0.6900\n",
            "Epoch 99/100\n",
            "10/10 [==============================] - 12s 1s/step - loss: 0.4761 - acc: 0.7900 - val_loss: 0.5781 - val_acc: 0.7000\n",
            "Epoch 100/100\n",
            "10/10 [==============================] - 12s 1s/step - loss: 0.4540 - acc: 0.8050 - val_loss: 0.5740 - val_acc: 0.7300\n"
          ]
        }
      ]
    },
    {
      "cell_type": "markdown",
      "source": [
        "End up with validation accuracy = 73 (old acc = 64) and training accuracy = 80.5 (old acc = 90) , that's great 8 % improvement of validation accuracy \n",
        "\n",
        "\n",
        "Lets save the model and plot the graph of the accuracy and the loss"
      ],
      "metadata": {
        "id": "zdgzkZSs_BxF"
      }
    },
    {
      "cell_type": "code",
      "source": [
        "model.save('cats_and_dogs_small_CNN_with_Augmentation_and_Dropout.h5')"
      ],
      "metadata": {
        "id": "Su_97g3u2Vo5"
      },
      "execution_count": 18,
      "outputs": []
    },
    {
      "cell_type": "code",
      "source": [
        "import matplotlib.pyplot as plt\n",
        "acc = history.history['acc']\n",
        "val_acc = history.history['val_acc']\n",
        "loss = history.history['loss']\n",
        "val_loss = history.history['val_loss']\n",
        "epochs = range(1, len(acc) + 1)\n",
        "plt.plot(epochs, acc, 'bo', label='Training acc')\n",
        "plt.plot(epochs, val_acc, 'b', label='Validation acc')\n",
        "plt.title('Training and validation accuracy')\n",
        "plt.legend()\n",
        "plt.figure()\n",
        "plt.plot(epochs, loss, 'bo', label='Training loss')\n",
        "plt.plot(epochs, val_loss, 'b', label='Validation loss')\n",
        "plt.title('Training and validation loss')\n",
        "plt.legend()\n",
        "plt.show()"
      ],
      "metadata": {
        "colab": {
          "base_uri": "https://localhost:8080/",
          "height": 545
        },
        "id": "UTksfvNX2h0P",
        "outputId": "a0d6779f-7b45-46fd-ea29-e06932b3c66d"
      },
      "execution_count": 19,
      "outputs": [
        {
          "output_type": "display_data",
          "data": {
            "text/plain": [
              "<Figure size 432x288 with 1 Axes>"
            ],
            "image/png": "[encoded data removed]"
          },
          "metadata": {
            "needs_background": "light"
          }
        },
        {
          "output_type": "display_data",
          "data": {
            "text/plain": [
              "<Figure size 432x288 with 1 Axes>"
            ],
            "image/png": "[encoded data removed]"
          },
          "metadata": {
            "needs_background": "light"
          }
        }
      ]
    },
    {
      "cell_type": "markdown",
      "source": [
        "FEATURE EXTRACTION WITH DATA AUGMENTATION\n",
        "\n",
        "download VGG16 model"
      ],
      "metadata": {
        "id": "0U39pVkQAaJB"
      }
    },
    {
      "cell_type": "code",
      "source": [
        "from keras.applications import VGG16\n",
        "conv_base = VGG16(weights='imagenet',\n",
        "include_top=False,\n",
        "input_shape=(150, 150, 3))"
      ],
      "metadata": {
        "colab": {
          "base_uri": "https://localhost:8080/"
        },
        "id": "sMbOUGoQ4OY1",
        "outputId": "db2924f0-aa88-49fc-c9b8-e5e6a68d7ad2"
      },
      "execution_count": 20,
      "outputs": [
        {
          "output_type": "stream",
          "name": "stdout",
          "text": [
            "Downloading data from https://storage.googleapis.com/tensorflow/keras-applications/vgg16/vgg16_weights_tf_dim_ordering_tf_kernels_notop.h5\n",
            "58889256/58889256 [==============================] - 2s 0us/step\n"
          ]
        }
      ]
    },
    {
      "cell_type": "code",
      "source": [
        "conv_base.summary()"
      ],
      "metadata": {
        "colab": {
          "base_uri": "https://localhost:8080/"
        },
        "id": "ASJfP83jAOVs",
        "outputId": "8d923a3b-5470-45ba-eb73-3c367ce9bcb1"
      },
      "execution_count": 21,
      "outputs": [
        {
          "output_type": "stream",
          "name": "stdout",
          "text": [
            "Model: \"vgg16\"\n",
            "_________________________________________________________________\n",
            " Layer (type)                Output Shape              Param #   \n",
            "=================================================================\n",
            " input_1 (InputLayer)        [(None, 150, 150, 3)]     0         \n",
            "                                                                 \n",
            " block1_conv1 (Conv2D)       (None, 150, 150, 64)      1792      \n",
            "                                                                 \n",
            " block1_conv2 (Conv2D)       (None, 150, 150, 64)      36928     \n",
            "                                                                 \n",
            " block1_pool (MaxPooling2D)  (None, 75, 75, 64)        0         \n",
            "                                                                 \n",
            " block2_conv1 (Conv2D)       (None, 75, 75, 128)       73856     \n",
            "                                                                 \n",
            " block2_conv2 (Conv2D)       (None, 75, 75, 128)       147584    \n",
            "                                                                 \n",
            " block2_pool (MaxPooling2D)  (None, 37, 37, 128)       0         \n",
            "                                                                 \n",
            " block3_conv1 (Conv2D)       (None, 37, 37, 256)       295168    \n",
            "                                                                 \n",
            " block3_conv2 (Conv2D)       (None, 37, 37, 256)       590080    \n",
            "                                                                 \n",
            " block3_conv3 (Conv2D)       (None, 37, 37, 256)       590080    \n",
            "                                                                 \n",
            " block3_pool (MaxPooling2D)  (None, 18, 18, 256)       0         \n",
            "                                                                 \n",
            " block4_conv1 (Conv2D)       (None, 18, 18, 512)       1180160   \n",
            "                                                                 \n",
            " block4_conv2 (Conv2D)       (None, 18, 18, 512)       2359808   \n",
            "                                                                 \n",
            " block4_conv3 (Conv2D)       (None, 18, 18, 512)       2359808   \n",
            "                                                                 \n",
            " block4_pool (MaxPooling2D)  (None, 9, 9, 512)         0         \n",
            "                                                                 \n",
            " block5_conv1 (Conv2D)       (None, 9, 9, 512)         2359808   \n",
            "                                                                 \n",
            " block5_conv2 (Conv2D)       (None, 9, 9, 512)         2359808   \n",
            "                                                                 \n",
            " block5_conv3 (Conv2D)       (None, 9, 9, 512)         2359808   \n",
            "                                                                 \n",
            " block5_pool (MaxPooling2D)  (None, 4, 4, 512)         0         \n",
            "                                                                 \n",
            "=================================================================\n",
            "Total params: 14,714,688\n",
            "Trainable params: 14,714,688\n",
            "Non-trainable params: 0\n",
            "_________________________________________________________________\n"
          ]
        }
      ]
    },
    {
      "cell_type": "markdown",
      "source": [
        "Adding a densely connected classifier on top of the convolutional base"
      ],
      "metadata": {
        "id": "egEHnvPTAoc1"
      }
    },
    {
      "cell_type": "code",
      "source": [
        "from keras import models\n",
        "from keras import layers\n",
        "model = models.Sequential()\n",
        "model.add(conv_base)\n",
        "model.add(layers.Flatten())\n",
        "model.add(layers.Dense(256, activation='relu'))\n",
        "model.add(layers.Dense(1, activation='sigmoid'))"
      ],
      "metadata": {
        "id": "kh4DyTmUAmSa"
      },
      "execution_count": 22,
      "outputs": []
    },
    {
      "cell_type": "code",
      "source": [
        "model.summary()"
      ],
      "metadata": {
        "colab": {
          "base_uri": "https://localhost:8080/"
        },
        "id": "-Gq0bS3qBlJR",
        "outputId": "5f46825e-ac3c-4bb5-bb64-d685e4a735e3"
      },
      "execution_count": 23,
      "outputs": [
        {
          "output_type": "stream",
          "name": "stdout",
          "text": [
            "Model: \"sequential_3\"\n",
            "_________________________________________________________________\n",
            " Layer (type)                Output Shape              Param #   \n",
            "=================================================================\n",
            " vgg16 (Functional)          (None, 4, 4, 512)         14714688  \n",
            "                                                                 \n",
            " flatten_3 (Flatten)         (None, 8192)              0         \n",
            "                                                                 \n",
            " dense_6 (Dense)             (None, 256)               2097408   \n",
            "                                                                 \n",
            " dense_7 (Dense)             (None, 1)                 257       \n",
            "                                                                 \n",
            "=================================================================\n",
            "Total params: 16,812,353\n",
            "Trainable params: 16,812,353\n",
            "Non-trainable params: 0\n",
            "_________________________________________________________________\n"
          ]
        }
      ]
    },
    {
      "cell_type": "markdown",
      "source": [
        "freeze a network by setting its trainable attribute to False"
      ],
      "metadata": {
        "id": "j384a95jCChM"
      }
    },
    {
      "cell_type": "code",
      "source": [
        "conv_base.trainable = False"
      ],
      "metadata": {
        "id": "-LXyC7ufBxfo"
      },
      "execution_count": 24,
      "outputs": []
    },
    {
      "cell_type": "code",
      "source": [
        "from keras.preprocessing.image import ImageDataGenerator\n",
        "from keras import optimizers\n",
        "\n",
        "train_datagen = ImageDataGenerator(\n",
        "  rescale=1./255,\n",
        "  rotation_range=40,\n",
        "  width_shift_range=0.2,\n",
        "  height_shift_range=0.2,\n",
        "  shear_range=0.2,\n",
        "  zoom_range=0.2,\n",
        "  horizontal_flip=True,\n",
        "  fill_mode='nearest')\n",
        "\n",
        "test_datagen = ImageDataGenerator(rescale=1./255)\n",
        "\n",
        "train_generator = train_datagen.flow_from_directory(\n",
        "  train_dir,\n",
        "  target_size=(150, 150),\n",
        "  batch_size=20,\n",
        "  class_mode='binary')\n",
        "\n",
        "validation_generator = test_datagen.flow_from_directory(\n",
        "  validation_dir,\n",
        "  target_size=(150, 150),\n",
        "  batch_size=20,\n",
        "  class_mode='binary')\n",
        "\n",
        "model.compile(loss='binary_crossentropy', optimizer=optimizers.RMSprop(lr=2e-5), metrics=['acc'])"
      ],
      "metadata": {
        "colab": {
          "base_uri": "https://localhost:8080/"
        },
        "id": "g1fiAAb8CL8l",
        "outputId": "75445fbf-660d-4145-b306-e8db1e9eafe2"
      },
      "execution_count": 25,
      "outputs": [
        {
          "output_type": "stream",
          "name": "stdout",
          "text": [
            "Found 200 images belonging to 2 classes.\n",
            "Found 100 images belonging to 2 classes.\n"
          ]
        },
        {
          "output_type": "stream",
          "name": "stderr",
          "text": [
            "/usr/local/lib/python3.7/dist-packages/keras/optimizers/optimizer_v2/rmsprop.py:135: UserWarning: The `lr` argument is deprecated, use `learning_rate` instead.\n",
            "  super(RMSprop, self).__init__(name, **kwargs)\n"
          ]
        }
      ]
    },
    {
      "cell_type": "code",
      "source": [
        "history = model.fit_generator(\n",
        "  train_generator,\n",
        "  steps_per_epoch=10,\n",
        "  epochs=30,\n",
        "  validation_data=validation_generator,\n",
        "  validation_steps=5)"
      ],
      "metadata": {
        "colab": {
          "base_uri": "https://localhost:8080/"
        },
        "id": "5_6-QHUKChWB",
        "outputId": "3ff7bbb9-0f9a-44a5-e1be-43fddd756430"
      },
      "execution_count": 26,
      "outputs": [
        {
          "output_type": "stream",
          "name": "stderr",
          "text": [
            "/usr/local/lib/python3.7/dist-packages/ipykernel_launcher.py:6: UserWarning: `Model.fit_generator` is deprecated and will be removed in a future version. Please use `Model.fit`, which supports generators.\n",
            "  \n"
          ]
        },
        {
          "output_type": "stream",
          "name": "stdout",
          "text": [
            "Epoch 1/30\n",
            "10/10 [==============================] - 64s 7s/step - loss: 0.6961 - acc: 0.5450 - val_loss: 0.6304 - val_acc: 0.6500\n",
            "Epoch 2/30\n",
            "10/10 [==============================] - 61s 6s/step - loss: 0.6383 - acc: 0.6550 - val_loss: 0.5852 - val_acc: 0.7000\n",
            "Epoch 3/30\n",
            "10/10 [==============================] - 61s 6s/step - loss: 0.6316 - acc: 0.6450 - val_loss: 0.5484 - val_acc: 0.7600\n",
            "Epoch 4/30\n",
            "10/10 [==============================] - 61s 6s/step - loss: 0.6172 - acc: 0.6950 - val_loss: 0.5263 - val_acc: 0.7700\n",
            "Epoch 5/30\n",
            "10/10 [==============================] - 61s 6s/step - loss: 0.5829 - acc: 0.7100 - val_loss: 0.4906 - val_acc: 0.8200\n",
            "Epoch 6/30\n",
            "10/10 [==============================] - 61s 6s/step - loss: 0.5575 - acc: 0.7600 - val_loss: 0.4670 - val_acc: 0.8200\n",
            "Epoch 7/30\n",
            "10/10 [==============================] - 62s 6s/step - loss: 0.5298 - acc: 0.7800 - val_loss: 0.4571 - val_acc: 0.8100\n",
            "Epoch 8/30\n",
            "10/10 [==============================] - 61s 6s/step - loss: 0.5419 - acc: 0.7700 - val_loss: 0.4311 - val_acc: 0.8400\n",
            "Epoch 9/30\n",
            "10/10 [==============================] - 61s 6s/step - loss: 0.5483 - acc: 0.7450 - val_loss: 0.4188 - val_acc: 0.8500\n",
            "Epoch 10/30\n",
            "10/10 [==============================] - 62s 6s/step - loss: 0.5206 - acc: 0.7750 - val_loss: 0.4048 - val_acc: 0.8400\n",
            "Epoch 11/30\n",
            "10/10 [==============================] - 65s 7s/step - loss: 0.4934 - acc: 0.7850 - val_loss: 0.3924 - val_acc: 0.8600\n",
            "Epoch 12/30\n",
            "10/10 [==============================] - 66s 7s/step - loss: 0.4937 - acc: 0.7950 - val_loss: 0.3797 - val_acc: 0.8800\n",
            "Epoch 13/30\n",
            "10/10 [==============================] - 67s 7s/step - loss: 0.5053 - acc: 0.7300 - val_loss: 0.3706 - val_acc: 0.8700\n",
            "Epoch 14/30\n",
            "10/10 [==============================] - 72s 7s/step - loss: 0.4803 - acc: 0.7700 - val_loss: 0.3672 - val_acc: 0.8700\n",
            "Epoch 15/30\n",
            "10/10 [==============================] - 66s 7s/step - loss: 0.4451 - acc: 0.8500 - val_loss: 0.3502 - val_acc: 0.8900\n",
            "Epoch 16/30\n",
            "10/10 [==============================] - 71s 7s/step - loss: 0.4458 - acc: 0.8200 - val_loss: 0.3451 - val_acc: 0.8700\n",
            "Epoch 17/30\n",
            "10/10 [==============================] - 73s 8s/step - loss: 0.4331 - acc: 0.8250 - val_loss: 0.3439 - val_acc: 0.8900\n",
            "Epoch 18/30\n",
            "10/10 [==============================] - 67s 7s/step - loss: 0.4392 - acc: 0.8000 - val_loss: 0.3289 - val_acc: 0.9000\n",
            "Epoch 19/30\n",
            "10/10 [==============================] - 61s 6s/step - loss: 0.4371 - acc: 0.8500 - val_loss: 0.3180 - val_acc: 0.9100\n",
            "Epoch 20/30\n",
            "10/10 [==============================] - 61s 6s/step - loss: 0.3757 - acc: 0.8700 - val_loss: 0.3187 - val_acc: 0.9100\n",
            "Epoch 21/30\n",
            "10/10 [==============================] - 61s 6s/step - loss: 0.4072 - acc: 0.8150 - val_loss: 0.3017 - val_acc: 0.9000\n",
            "Epoch 22/30\n",
            "10/10 [==============================] - 61s 6s/step - loss: 0.4170 - acc: 0.8600 - val_loss: 0.2972 - val_acc: 0.9000\n",
            "Epoch 23/30\n",
            "10/10 [==============================] - 61s 6s/step - loss: 0.3750 - acc: 0.8800 - val_loss: 0.3261 - val_acc: 0.8600\n",
            "Epoch 24/30\n",
            "10/10 [==============================] - 61s 6s/step - loss: 0.3933 - acc: 0.8350 - val_loss: 0.2892 - val_acc: 0.9100\n",
            "Epoch 25/30\n",
            "10/10 [==============================] - 61s 6s/step - loss: 0.3503 - acc: 0.8850 - val_loss: 0.3115 - val_acc: 0.9000\n",
            "Epoch 26/30\n",
            "10/10 [==============================] - 61s 6s/step - loss: 0.3618 - acc: 0.8700 - val_loss: 0.2886 - val_acc: 0.9000\n",
            "Epoch 27/30\n",
            "10/10 [==============================] - 61s 6s/step - loss: 0.4058 - acc: 0.8050 - val_loss: 0.2999 - val_acc: 0.9100\n",
            "Epoch 28/30\n",
            "10/10 [==============================] - 61s 6s/step - loss: 0.3773 - acc: 0.8450 - val_loss: 0.2738 - val_acc: 0.9000\n",
            "Epoch 29/30\n",
            "10/10 [==============================] - 61s 6s/step - loss: 0.3893 - acc: 0.8400 - val_loss: 0.2697 - val_acc: 0.9000\n",
            "Epoch 30/30\n",
            "10/10 [==============================] - 64s 7s/step - loss: 0.3688 - acc: 0.8650 - val_loss: 0.2870 - val_acc: 0.9100\n"
          ]
        }
      ]
    },
    {
      "cell_type": "markdown",
      "source": [
        "End up with validation accuracy = 91 (old acc = 73) and training accuracy = 86.5 (old acc = 80) , that's amazing 18 % improvement of validation accuracy \n",
        "\n",
        "\n",
        "Lets save the model and plot the graph of the accuracy and the loss"
      ],
      "metadata": {
        "id": "Urt_a7GrLY-5"
      }
    },
    {
      "cell_type": "code",
      "source": [
        "model.save('cats_and_dogs_small_VGG16_feature_extraction.h5')"
      ],
      "metadata": {
        "id": "xVxwYBZ_LxJJ"
      },
      "execution_count": 28,
      "outputs": []
    },
    {
      "cell_type": "code",
      "source": [
        "import matplotlib.pyplot as plt\n",
        "acc = history.history['acc']\n",
        "val_acc = history.history['val_acc']\n",
        "loss = history.history['loss']\n",
        "val_loss = history.history['val_loss']\n",
        "epochs = range(1, len(acc) + 1)\n",
        "plt.plot(epochs, acc, 'bo', label='Training acc')\n",
        "plt.plot(epochs, val_acc, 'b', label='Validation acc')\n",
        "plt.title('Training and validation accuracy')\n",
        "plt.legend()\n",
        "plt.figure()\n",
        "plt.plot(epochs, loss, 'bo', label='Training loss')\n",
        "plt.plot(epochs, val_loss, 'b', label='Validation loss')\n",
        "plt.title('Training and validation loss')\n",
        "plt.legend()\n",
        "plt.show()"
      ],
      "metadata": {
        "colab": {
          "base_uri": "https://localhost:8080/",
          "height": 545
        },
        "id": "LBIxkKUhCz0b",
        "outputId": "18960190-af50-4a6e-b5ea-89af03304a60"
      },
      "execution_count": 27,
      "outputs": [
        {
          "output_type": "display_data",
          "data": {
            "text/plain": [
              "<Figure size 432x288 with 1 Axes>"
            ],
            "image/png": "[encoded data removed]"
          },
          "metadata": {
            "needs_background": "light"
          }
        },
        {
          "output_type": "display_data",
          "data": {
            "text/plain": [
              "<Figure size 432x288 with 1 Axes>"
            ],
            "image/png": "[encoded data removed]"
          },
          "metadata": {
            "needs_background": "light"
          }
        }
      ]
    },
    {
      "cell_type": "markdown",
      "source": [
        "Let's fine tune this model\n",
        "\n",
        "1 Add your custom network on top of an already-trained base network.\n",
        "\n",
        "2 Freeze the base network.\n",
        "\n",
        "3 Train the part you added.\n",
        "\n",
        "4 Unfreeze some layers in the base network.\n",
        "\n",
        "5 Jointly train both these layers and the part you added.\n",
        "\n",
        "We already completed the first three steps when doing feature extraction. Let’s proceed\n",
        "with step 4"
      ],
      "metadata": {
        "id": "bvq59iWqMAEh"
      }
    },
    {
      "cell_type": "code",
      "source": [
        "conv_base.trainable = True\n",
        "set_trainable = False\n",
        "\n",
        "for layer in conv_base.layers:\n",
        "  if layer.name == 'block5_conv1':\n",
        "    set_trainable = True\n",
        "  if set_trainable:\n",
        "    layer.trainable = True\n",
        "  else:\n",
        "    layer.trainable = False"
      ],
      "metadata": {
        "id": "9VJI_9yfLsGQ"
      },
      "execution_count": 29,
      "outputs": []
    },
    {
      "cell_type": "markdown",
      "source": [
        "We’ll do this with the RMSProp optimizer, using a very low learning rate. The reason for using a low learning rate is that we want to limit the magnitude of the modifications we make to the representations of the three layers we fine-tuning. Updates that are too large may harm these representations."
      ],
      "metadata": {
        "id": "7d4zpVfAMdz1"
      }
    },
    {
      "cell_type": "code",
      "source": [
        "model.compile(loss='binary_crossentropy', optimizer=optimizers.RMSprop(lr=1e-5), metrics=['acc'])\n",
        "history = model.fit_generator(\n",
        "    train_generator,\n",
        "    steps_per_epoch=10,\n",
        "    epochs=30,\n",
        "    validation_data=validation_generator,\n",
        "    validation_steps=5)"
      ],
      "metadata": {
        "colab": {
          "base_uri": "https://localhost:8080/"
        },
        "id": "qNvQ-Dc4Mcmh",
        "outputId": "20952001-03c5-49c3-e617-3c15103bf12d"
      },
      "execution_count": 30,
      "outputs": [
        {
          "output_type": "stream",
          "name": "stderr",
          "text": [
            "/usr/local/lib/python3.7/dist-packages/ipykernel_launcher.py:7: UserWarning: `Model.fit_generator` is deprecated and will be removed in a future version. Please use `Model.fit`, which supports generators.\n",
            "  import sys\n"
          ]
        },
        {
          "output_type": "stream",
          "name": "stdout",
          "text": [
            "Epoch 1/30\n",
            "10/10 [==============================] - 82s 8s/step - loss: 0.3938 - acc: 0.8200 - val_loss: 0.2522 - val_acc: 0.8800\n",
            "Epoch 2/30\n",
            "10/10 [==============================] - 82s 9s/step - loss: 0.3096 - acc: 0.8750 - val_loss: 0.2381 - val_acc: 0.9100\n",
            "Epoch 3/30\n",
            "10/10 [==============================] - 76s 8s/step - loss: 0.2960 - acc: 0.8800 - val_loss: 0.2286 - val_acc: 0.9000\n",
            "Epoch 4/30\n",
            "10/10 [==============================] - 72s 7s/step - loss: 0.2296 - acc: 0.9400 - val_loss: 0.2235 - val_acc: 0.8800\n",
            "Epoch 5/30\n",
            "10/10 [==============================] - 88s 9s/step - loss: 0.2789 - acc: 0.9050 - val_loss: 0.2208 - val_acc: 0.8800\n",
            "Epoch 6/30\n",
            "10/10 [==============================] - 70s 7s/step - loss: 0.2295 - acc: 0.9000 - val_loss: 0.2198 - val_acc: 0.9100\n",
            "Epoch 7/30\n",
            "10/10 [==============================] - 70s 7s/step - loss: 0.2698 - acc: 0.9050 - val_loss: 0.2049 - val_acc: 0.9000\n",
            "Epoch 8/30\n",
            "10/10 [==============================] - 69s 7s/step - loss: 0.2058 - acc: 0.9250 - val_loss: 0.1992 - val_acc: 0.9400\n",
            "Epoch 9/30\n",
            "10/10 [==============================] - 74s 8s/step - loss: 0.1894 - acc: 0.9250 - val_loss: 0.2058 - val_acc: 0.9100\n",
            "Epoch 10/30\n",
            "10/10 [==============================] - 81s 8s/step - loss: 0.2232 - acc: 0.9150 - val_loss: 0.2655 - val_acc: 0.8900\n",
            "Epoch 11/30\n",
            "10/10 [==============================] - 74s 8s/step - loss: 0.1764 - acc: 0.9350 - val_loss: 0.1936 - val_acc: 0.9200\n",
            "Epoch 12/30\n",
            "10/10 [==============================] - 75s 8s/step - loss: 0.1945 - acc: 0.9550 - val_loss: 0.1873 - val_acc: 0.9300\n",
            "Epoch 13/30\n",
            "10/10 [==============================] - 70s 7s/step - loss: 0.1910 - acc: 0.9150 - val_loss: 0.1873 - val_acc: 0.9400\n",
            "Epoch 14/30\n",
            "10/10 [==============================] - 70s 7s/step - loss: 0.2119 - acc: 0.9200 - val_loss: 0.2272 - val_acc: 0.8800\n",
            "Epoch 15/30\n",
            "10/10 [==============================] - 70s 7s/step - loss: 0.1676 - acc: 0.9350 - val_loss: 0.1808 - val_acc: 0.9300\n",
            "Epoch 16/30\n",
            "10/10 [==============================] - 70s 7s/step - loss: 0.1679 - acc: 0.9400 - val_loss: 0.1763 - val_acc: 0.9300\n",
            "Epoch 17/30\n",
            "10/10 [==============================] - 70s 7s/step - loss: 0.1610 - acc: 0.9500 - val_loss: 0.1786 - val_acc: 0.9400\n",
            "Epoch 18/30\n",
            "10/10 [==============================] - 70s 7s/step - loss: 0.1496 - acc: 0.9350 - val_loss: 0.1966 - val_acc: 0.9100\n",
            "Epoch 19/30\n",
            "10/10 [==============================] - 70s 7s/step - loss: 0.1392 - acc: 0.9600 - val_loss: 0.2414 - val_acc: 0.8700\n",
            "Epoch 20/30\n",
            "10/10 [==============================] - 70s 7s/step - loss: 0.1256 - acc: 0.9700 - val_loss: 0.2397 - val_acc: 0.8700\n",
            "Epoch 21/30\n",
            "10/10 [==============================] - 70s 7s/step - loss: 0.1206 - acc: 0.9550 - val_loss: 0.1934 - val_acc: 0.9300\n",
            "Epoch 22/30\n",
            "10/10 [==============================] - 70s 7s/step - loss: 0.1283 - acc: 0.9450 - val_loss: 0.2217 - val_acc: 0.9200\n",
            "Epoch 23/30\n",
            "10/10 [==============================] - 70s 7s/step - loss: 0.1011 - acc: 0.9600 - val_loss: 0.1833 - val_acc: 0.9300\n",
            "Epoch 24/30\n",
            "10/10 [==============================] - 70s 7s/step - loss: 0.1312 - acc: 0.9550 - val_loss: 0.2856 - val_acc: 0.8600\n",
            "Epoch 25/30\n",
            "10/10 [==============================] - 70s 7s/step - loss: 0.1224 - acc: 0.9450 - val_loss: 0.1909 - val_acc: 0.9200\n",
            "Epoch 26/30\n",
            "10/10 [==============================] - 70s 7s/step - loss: 0.0967 - acc: 0.9700 - val_loss: 0.1981 - val_acc: 0.9000\n",
            "Epoch 27/30\n",
            "10/10 [==============================] - 70s 7s/step - loss: 0.0974 - acc: 0.9750 - val_loss: 0.2196 - val_acc: 0.9100\n",
            "Epoch 28/30\n",
            "10/10 [==============================] - 70s 7s/step - loss: 0.0911 - acc: 0.9800 - val_loss: 0.1830 - val_acc: 0.9200\n",
            "Epoch 29/30\n",
            "10/10 [==============================] - 70s 7s/step - loss: 0.0909 - acc: 0.9800 - val_loss: 0.1797 - val_acc: 0.9400\n",
            "Epoch 30/30\n",
            "10/10 [==============================] - 70s 7s/step - loss: 0.1101 - acc: 0.9550 - val_loss: 0.2155 - val_acc: 0.9000\n"
          ]
        }
      ]
    },
    {
      "cell_type": "markdown",
      "source": [
        "End up with validation accuracy = 90 (old acc = 91) and training accuracy = 95.5 (old acc = 86.5) this is because we train with very small data. wewill see the validation accuracy at epoch 29 is 94.0\n",
        "\n",
        "\n",
        "Lets save the model and plot the graph of the accuracy and the loss"
      ],
      "metadata": {
        "id": "VYcasXOBNeEU"
      }
    },
    {
      "cell_type": "code",
      "source": [
        "model.save('cats_and_dogs_small_VGG16_fine_tuning.h5')"
      ],
      "metadata": {
        "id": "oHT8FvL9NnNZ"
      },
      "execution_count": 35,
      "outputs": []
    },
    {
      "cell_type": "code",
      "source": [
        "import matplotlib.pyplot as plt\n",
        "acc = history.history['acc']\n",
        "val_acc = history.history['val_acc']\n",
        "loss = history.history['loss']\n",
        "val_loss = history.history['val_loss']\n",
        "epochs = range(1, len(acc) + 1)\n",
        "plt.plot(epochs, acc, 'bo', label='Training acc')\n",
        "plt.plot(epochs, val_acc, 'b', label='Validation acc')\n",
        "plt.title('Training and validation accuracy')\n",
        "plt.legend()\n",
        "plt.figure()\n",
        "plt.plot(epochs, loss, 'bo', label='Training loss')\n",
        "plt.plot(epochs, val_loss, 'b', label='Validation loss')\n",
        "plt.title('Training and validation loss')\n",
        "plt.legend()\n",
        "plt.show()"
      ],
      "metadata": {
        "colab": {
          "base_uri": "https://localhost:8080/",
          "height": 545
        },
        "id": "-3oS2FajNTI3",
        "outputId": "74a4b026-23d5-4e57-f85d-a1a72a37ca71"
      },
      "execution_count": 36,
      "outputs": [
        {
          "output_type": "display_data",
          "data": {
            "text/plain": [
              "<Figure size 432x288 with 1 Axes>"
            ],
            "image/png": "[encoded data removed]"
          },
          "metadata": {
            "needs_background": "light"
          }
        },
        {
          "output_type": "display_data",
          "data": {
            "text/plain": [
              "<Figure size 432x288 with 1 Axes>"
            ],
            "image/png": "[encoded data removed]"
          },
          "metadata": {
            "needs_background": "light"
          }
        }
      ]
    },
    {
      "cell_type": "markdown",
      "source": [
        "These curves look noisy. To make them more readable, we can smooth them by replacing every loss and accuracy with exponential moving averages of these quantities."
      ],
      "metadata": {
        "id": "gJqm_Jq7PA4J"
      }
    },
    {
      "cell_type": "code",
      "source": [
        "def smooth_curve(points, factor=0.8):\n",
        "  smoothed_points = []\n",
        "  for point in points:\n",
        "    if smoothed_points:\n",
        "      previous = smoothed_points[-1]\n",
        "      smoothed_points.append(previous * factor + point * (1 - factor))\n",
        "    else:\n",
        "      smoothed_points.append(point)\n",
        "  return smoothed_points\n",
        "\n",
        "\n",
        "plt.plot(epochs, smooth_curve(acc), 'bo', label='Smoothed training acc')\n",
        "plt.plot(epochs, smooth_curve(val_acc), 'b', label='Smoothed validation acc')\n",
        "plt.title('Training and validation accuracy')\n",
        "plt.legend()\n",
        "\n",
        "plt.figure()\n",
        "plt.plot(epochs, smooth_curve(loss), 'bo', label='Smoothed training loss')\n",
        "plt.plot(epochs, smooth_curve(val_loss), 'b', label='Smoothed validation loss')\n",
        "plt.title('Training and validation loss')\n",
        "plt.legend()\n",
        "plt.show()"
      ],
      "metadata": {
        "colab": {
          "base_uri": "https://localhost:8080/",
          "height": 545
        },
        "id": "fjpGHWzMOsQy",
        "outputId": "c2d87482-d991-4755-fb16-658cfefa86cc"
      },
      "execution_count": 37,
      "outputs": [
        {
          "output_type": "display_data",
          "data": {
            "text/plain": [
              "<Figure size 432x288 with 1 Axes>"
            ],
            "image/png": "[encoded data removed]"
          },
          "metadata": {
            "needs_background": "light"
          }
        },
        {
          "output_type": "display_data",
          "data": {
            "text/plain": [
              "<Figure size 432x288 with 1 Axes>"
            ],
            "image/png": "[encoded data removed]"
          },
          "metadata": {
            "needs_background": "light"
          }
        }
      ]
    },
    {
      "cell_type": "markdown",
      "source": [
        "We can now evaluate this model on the test data"
      ],
      "metadata": {
        "id": "u-ejRAPMPNW1"
      }
    },
    {
      "cell_type": "code",
      "source": [
        "test_generator = test_datagen.flow_from_directory(\n",
        "  test_dir,\n",
        "  target_size=(150, 150),\n",
        "  batch_size=20,\n",
        "  class_mode='binary')"
      ],
      "metadata": {
        "colab": {
          "base_uri": "https://localhost:8080/"
        },
        "id": "-bdW3iiyN3lz",
        "outputId": "1162f632-3b61-466c-c872-4016df5e4e76"
      },
      "execution_count": 38,
      "outputs": [
        {
          "output_type": "stream",
          "name": "stdout",
          "text": [
            "Found 100 images belonging to 2 classes.\n"
          ]
        }
      ]
    },
    {
      "cell_type": "code",
      "source": [
        "test_loss, test_acc = model.evaluate(test_generator, steps=5)\n",
        "print('test acc:', test_acc)"
      ],
      "metadata": {
        "colab": {
          "base_uri": "https://localhost:8080/"
        },
        "id": "cGlkhrl2N6OH",
        "outputId": "46e9c26e-0cf3-4aee-997e-1b73484f21ca"
      },
      "execution_count": 39,
      "outputs": [
        {
          "output_type": "stream",
          "name": "stdout",
          "text": [
            "5/5 [==============================] - 23s 4s/step - loss: 0.3814 - acc: 0.8700\n",
            "test acc: 0.8700000047683716\n"
          ]
        }
      ]
    },
    {
      "cell_type": "markdown",
      "source": [
        "Here we get a test accuracy of 87%. that is great."
      ],
      "metadata": {
        "id": "M36_426MYyuE"
      }
    },
    {
      "cell_type": "code",
      "source": [],
      "metadata": {
        "id": "9xsl7A35YuYe"
      },
      "execution_count": null,
      "outputs": []
    }
  ]
}